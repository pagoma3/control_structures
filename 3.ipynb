{
 "cells": [
  {
   "cell_type": "code",
   "execution_count": 1,
   "metadata": {},
   "outputs": [
    {
     "name": "stdout",
     "output_type": "stream",
     "text": [
      "Insuficient\n",
      "Aprovat\n",
      "Notable\n",
      "Excel·lent\n"
     ]
    }
   ],
   "source": [
    "def evaluacio(nota):\n",
    "    if nota < 5:\n",
    "        print(\"Insuficient\")\n",
    "    elif nota >= 5 and nota < 7:\n",
    "        print(\"Aprovat\")\n",
    "    elif nota >= 7 and nota < 9:\n",
    "        print(\"Notable\")\n",
    "    else:\n",
    "        print(\"Excel·lent\")\n",
    "        \n",
    "evaluacio(3)\n",
    "evaluacio(6)\n",
    "evaluacio(8)\n",
    "evaluacio(10)"
   ]
  },
  {
   "cell_type": "code",
   "execution_count": 4,
   "metadata": {},
   "outputs": [
    {
     "name": "stdout",
     "output_type": "stream",
     "text": [
      "Quin és el primer número? 44\n",
      "Quin és el segon número? 44\n",
      "Els dos números són iguals!\n"
     ]
    }
   ],
   "source": [
    "num1 = input(\"Quin és el primer número? \")\n",
    "num2 = input(\"Quin és el segon número? \")\n",
    "\n",
    "if num1 < num2:\n",
    "    print(f\"El segon número ({num2}) és més gran\")\n",
    "elif num1 > num2:\n",
    "    print(f\"El primer número ({num1}) és més gran\")\n",
    "else:\n",
    "    print(\"Els dos números són iguals!\")"
   ]
  },
  {
   "cell_type": "code",
   "execution_count": 7,
   "metadata": {},
   "outputs": [
    {
     "name": "stdout",
     "output_type": "stream",
     "text": [
      "Introdueix el teu nom: Joanito\n",
      "Quantes vegades el vols? 12\n",
      "JoanitoJoanitoJoanitoJoanitoJoanitoJoanitoJoanitoJoanitoJoanitoJoanitoJoanitoJoanito\n"
     ]
    }
   ],
   "source": [
    "nom = input(\"Introdueix el teu nom: \")\n",
    "num = int(input(\"Quantes vegades el vols? \"))\n",
    "\n",
    "if num == 0:\n",
    "    print(\"Introdueix un altre número\")\n",
    "else:\n",
    "    print(nom * num)"
   ]
  },
  {
   "cell_type": "code",
   "execution_count": 15,
   "metadata": {},
   "outputs": [
    {
     "name": "stdout",
     "output_type": "stream",
     "text": [
      "Quants elements té la teva llista? 4\n",
      "Introdueix un element per a la llista: Anna\n",
      "Introdueix un element per a la llista: Pau\n",
      "Introdueix un element per a la llista: Pau\n",
      "Introdueix un element per a la llista: Anna\n",
      "Atenció! Aquesta llista és simètrica i té 4 elements!\n"
     ]
    }
   ],
   "source": [
    "vegades = int(input(\"Quants elements té la teva llista? \"))\n",
    "llista = []\n",
    "\n",
    "for i in range(vegades):\n",
    "    element = input(\"Introdueix un element per a la llista: \")\n",
    "    llista.append(element)\n",
    "    \n",
    "invertida = llista[::-1]\n",
    "    \n",
    "if llista == invertida:\n",
    "    print(f\"Atenció! Aquesta llista és simètrica i té {len(llista)} elements!\")\n",
    "else:\n",
    "    print(llista)"
   ]
  },
  {
   "cell_type": "code",
   "execution_count": 22,
   "metadata": {},
   "outputs": [
    {
     "name": "stdout",
     "output_type": "stream",
     "text": [
      "Quants elements té la teva llista? 4\n",
      "Introdueix un element per a la llista: 1\n",
      "Introdueix un element per a la llista: 1\n",
      "Introdueix un element per a la llista: 1\n",
      "Introdueix un element per a la llista: 1\n",
      "[1, 1, 1, 1]\n",
      "Els índexos coincideixen amb els valors 1 vegades\n"
     ]
    }
   ],
   "source": [
    "vegades = int(input(\"Quants elements té la teva llista? \"))\n",
    "llista = []\n",
    "coincideixen = 0\n",
    "\n",
    "for i in range(vegades):\n",
    "    element = int(input(\"Introdueix un element per a la llista: \"))\n",
    "    llista.append(element)\n",
    "\n",
    "for i in range(vegades):\n",
    "    if i == llista[i]:\n",
    "        coincideixen += 1\n",
    "\n",
    "print(llista)\n",
    "print(f\"Els índexos coincideixen amb els valors {coincideixen} vegades\")"
   ]
  },
  {
   "cell_type": "code",
   "execution_count": null,
   "metadata": {},
   "outputs": [],
   "source": []
  }
 ],
 "metadata": {
  "kernelspec": {
   "display_name": "Python 3",
   "language": "python",
   "name": "python3"
  },
  "language_info": {
   "codemirror_mode": {
    "name": "ipython",
    "version": 3
   },
   "file_extension": ".py",
   "mimetype": "text/x-python",
   "name": "python",
   "nbconvert_exporter": "python",
   "pygments_lexer": "ipython3",
   "version": "3.8.5"
  }
 },
 "nbformat": 4,
 "nbformat_minor": 4
}
