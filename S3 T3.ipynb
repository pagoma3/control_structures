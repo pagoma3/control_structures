{
 "cells": [
  {
   "cell_type": "markdown",
   "metadata": {},
   "source": [
    "\n",
    "# Sprint 3, Task 3\n",
    "\n",
    "## Exercise 1\n",
    "\n",
    "Create a program that classifies a numerical variable into grades A/B/C/D:\n"
   ]
  },
  {
   "cell_type": "code",
   "execution_count": 1,
   "metadata": {
    "ExecuteTime": {
     "end_time": "2021-10-04T11:45:55.230296Z",
     "start_time": "2021-10-04T11:45:55.211510Z"
    }
   },
   "outputs": [
    {
     "name": "stdout",
     "output_type": "stream",
     "text": [
      "You got a D\n",
      "You got a C\n",
      "You got a B\n",
      "You got an A!\n"
     ]
    }
   ],
   "source": [
    "def evaluate(grade):\n",
    "    if grade < 5:\n",
    "        print(\"You got a D\")\n",
    "    elif grade >= 5 and grade < 7:\n",
    "        print(\"You got a C\")\n",
    "    elif grade >= 7 and grade < 9:\n",
    "        print(\"You got a B\")\n",
    "    else:\n",
    "        print(\"You got an A!\")\n",
    "        \n",
    "evaluate(3)\n",
    "evaluate(6)\n",
    "evaluate(8)\n",
    "evaluate(10)"
   ]
  },
  {
   "cell_type": "markdown",
   "metadata": {},
   "source": [
    "## Exercise 2\n",
    "\n",
    "Create a program that asks for 2 numbers. It has to show a message saying whether the first one is bigger, the second one is or whether they are equal."
   ]
  },
  {
   "cell_type": "code",
   "execution_count": 2,
   "metadata": {
    "ExecuteTime": {
     "end_time": "2021-10-04T11:45:58.442412Z",
     "start_time": "2021-10-04T11:45:55.239254Z"
    }
   },
   "outputs": [
    {
     "name": "stdout",
     "output_type": "stream",
     "text": [
      "What is the first number? 100\n",
      "What is the second number? 2\n",
      "The second number (2) is bigger\n"
     ]
    }
   ],
   "source": [
    "num1 = input(\"What is the first number? \")\n",
    "num2 = input(\"What is the second number? \")\n",
    "\n",
    "if num1 < num2:\n",
    "    print(f\"The second number ({num2}) is bigger\")\n",
    "elif num1 > num2:\n",
    "    print(f\"The first number ({num1}) is bigger\")\n",
    "else:\n",
    "    print(\"The two numbers are equal!\")"
   ]
  },
  {
   "cell_type": "markdown",
   "metadata": {},
   "source": [
    "## Exercise 3\n",
    "\n",
    "Create a program asking for your name and a number. If the number is 0 it should show an error message. Otherwise, it should show your name repeated as many times as the number indicates. For example, \"Joan Joan Joan\"."
   ]
  },
  {
   "cell_type": "code",
   "execution_count": 3,
   "metadata": {
    "ExecuteTime": {
     "end_time": "2021-10-04T11:46:02.190895Z",
     "start_time": "2021-10-04T11:45:58.452622Z"
    }
   },
   "outputs": [
    {
     "name": "stdout",
     "output_type": "stream",
     "text": [
      "Introduce your name: Paul\n",
      "How many times do you want it? 6\n",
      "PaulPaulPaulPaulPaulPaul\n"
     ]
    }
   ],
   "source": [
    "name = input(\"Introduce your name: \")\n",
    "num = int(input(\"How many times do you want it? \"))\n",
    "\n",
    "if num == 0:\n",
    "    print(\"Insert another number\")\n",
    "else:\n",
    "    print(name * num)"
   ]
  },
  {
   "cell_type": "markdown",
   "metadata": {},
   "source": [
    "## Exercise 4\n",
    "\n",
    "Create a program where given any list, it shows whether it is simmetrical or not. If it is, print how many elements it has.\n"
   ]
  },
  {
   "cell_type": "code",
   "execution_count": 4,
   "metadata": {
    "ExecuteTime": {
     "end_time": "2021-10-04T11:46:16.056247Z",
     "start_time": "2021-10-04T11:46:02.199160Z"
    }
   },
   "outputs": [
    {
     "name": "stdout",
     "output_type": "stream",
     "text": [
      "How many elements does your list have? 5\n",
      "Insert an element to the list: Hello\n",
      "Insert an element to the list: world\n",
      "Insert an element to the list: !\n",
      "Insert an element to the list: world\n",
      "Insert an element to the list: Hello\n",
      "Hey! This list is symmetrical and contains 5 elements!\n"
     ]
    }
   ],
   "source": [
    "def list_creator():\n",
    "    \n",
    "    times = int(input(\"How many elements does your list have? \"))\n",
    "    container = []\n",
    "\n",
    "    # Create a for loop to ask for list elements\n",
    "\n",
    "    for i in range(times):\n",
    "        element = input(\"Insert an element to the list: \")\n",
    "        container.append(element)\n",
    "    \n",
    "    return container\n",
    "\n",
    "# Encapsulate the process into a function\n",
    "    \n",
    "def symmetry(elements):\n",
    "\n",
    "    # Create an instance of the inverted list\n",
    "    \n",
    "    inverted = elements[::-1]\n",
    "    \n",
    "    if elements == inverted:\n",
    "        print(f\"Hey! This list is symmetrical and contains {len(elements)} elements!\")\n",
    "    else:\n",
    "        print(\"This list is not symmetrical...\")\n",
    "        \n",
    "        \n",
    "container = list_creator()\n",
    "symmetry(container)"
   ]
  },
  {
   "cell_type": "markdown",
   "metadata": {},
   "source": [
    "## Exercise 5\n",
    "\n",
    "Create a program where given a list, prints how many numbers coincide with their index. For example [3,4,2,0,2,3,6], where 2 and 6 coincide."
   ]
  },
  {
   "cell_type": "code",
   "execution_count": 5,
   "metadata": {
    "ExecuteTime": {
     "end_time": "2021-10-04T11:46:22.123260Z",
     "start_time": "2021-10-04T11:46:16.075267Z"
    }
   },
   "outputs": [
    {
     "name": "stdout",
     "output_type": "stream",
     "text": [
      "How many elements does your list have? 4\n",
      "Insert an element to the list: 0\n",
      "Insert an element to the list: 1\n",
      "Insert an element to the list: 2\n",
      "Insert an element to the list: 5\n",
      "['0', '1', '2', '5']\n",
      "Indexes coincide with their values 3 times\n"
     ]
    }
   ],
   "source": [
    "# Create a custom list with the creator function\n",
    "\n",
    "container = list_creator()\n",
    "\n",
    "def coincidences(container):\n",
    "    coincide = 0\n",
    "\n",
    "    # Every time the index is the same as the value, add 1 to coincide\n",
    "    \n",
    "    for i in range(len(container)):\n",
    "        if i == int(container[i]):\n",
    "            coincide += 1\n",
    "\n",
    "    print(container)\n",
    "    print(f\"Indexes coincide with their values {coincide} times\")\n",
    "    \n",
    "coincidences(container)"
   ]
  }
 ],
 "metadata": {
  "kernelspec": {
   "display_name": "Python 3",
   "language": "python",
   "name": "python3"
  },
  "language_info": {
   "codemirror_mode": {
    "name": "ipython",
    "version": 3
   },
   "file_extension": ".py",
   "mimetype": "text/x-python",
   "name": "python",
   "nbconvert_exporter": "python",
   "pygments_lexer": "ipython3",
   "version": "3.8.8"
  },
  "varInspector": {
   "cols": {
    "lenName": 16,
    "lenType": 16,
    "lenVar": 40
   },
   "kernels_config": {
    "python": {
     "delete_cmd_postfix": "",
     "delete_cmd_prefix": "del ",
     "library": "var_list.py",
     "varRefreshCmd": "print(var_dic_list())"
    },
    "r": {
     "delete_cmd_postfix": ") ",
     "delete_cmd_prefix": "rm(",
     "library": "var_list.r",
     "varRefreshCmd": "cat(var_dic_list()) "
    }
   },
   "types_to_exclude": [
    "module",
    "function",
    "builtin_function_or_method",
    "instance",
    "_Feature"
   ],
   "window_display": false
  }
 },
 "nbformat": 4,
 "nbformat_minor": 4
}
